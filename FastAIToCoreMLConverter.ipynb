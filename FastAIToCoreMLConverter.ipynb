{
  "nbformat": 4,
  "nbformat_minor": 0,
  "metadata": {
    "colab": {
      "name": "FastAIToCoreMLConverter.ipynb",
      "provenance": [],
      "authorship_tag": "ABX9TyOdpqcXCl98hZdkAzyxwG7T",
      "include_colab_link": true
    },
    "kernelspec": {
      "name": "python3",
      "display_name": "Python 3"
    }
  },
  "cells": [
    {
      "cell_type": "markdown",
      "metadata": {
        "id": "view-in-github",
        "colab_type": "text"
      },
      "source": [
        "<a href=\"https://colab.research.google.com/github/ozgurshn/Colab-notebooks/blob/master/FastAIToCoreMLConverter.ipynb\" target=\"_parent\"><img src=\"https://colab.research.google.com/assets/colab-badge.svg\" alt=\"Open In Colab\"/></a>"
      ]
    },
    {
      "cell_type": "markdown",
      "metadata": {
        "id": "Ifi0Dm5-2gN2",
        "colab_type": "text"
      },
      "source": [
        "Fast AI model Conversion to CoreML\n",
        "\n",
        "Author: [Ozgur Sahin](https://twitter.com/ozgr_shn)\n"
      ]
    },
    {
      "cell_type": "code",
      "metadata": {
        "id": "oFF7rJPQ1Il7",
        "colab_type": "code",
        "colab": {}
      },
      "source": [
        "\n",
        "!pip install onnx\n",
        "!pip install onnx_coreml\n",
        "\n",
        "\n",
        "from fastai.vision import *"
      ],
      "execution_count": 0,
      "outputs": []
    },
    {
      "cell_type": "code",
      "metadata": {
        "id": "DdWsHuVB1NfV",
        "colab_type": "code",
        "colab": {}
      },
      "source": [
        "!curl -s https://course.fast.ai/setup/colab | bash"
      ],
      "execution_count": 0,
      "outputs": []
    },
    {
      "cell_type": "code",
      "metadata": {
        "id": "kGIGADqa1SS-",
        "colab_type": "code",
        "colab": {}
      },
      "source": [
        "from google.colab import drive\n",
        "drive.mount('/content/drive',force_remount=True)"
      ],
      "execution_count": 0,
      "outputs": []
    },
    {
      "cell_type": "markdown",
      "metadata": {
        "id": "SpknNBT11tTw",
        "colab_type": "text"
      },
      "source": [
        "1) Convert your fastai model to Onnx"
      ]
    },
    {
      "cell_type": "code",
      "metadata": {
        "id": "4Rb-WOkm1EjI",
        "colab_type": "code",
        "colab": {}
      },
      "source": [
        "#first parameter should be your model, \n",
        "#second param is the hape of your model\n",
        "#third is filepath for onnx file to be exported\n",
        "torch.onnx.export(learn.model.G_A.cpu(),\n",
        "                  torch.randn(1, 3, 128, 128),\n",
        "                  'tmp.onnx')"
      ],
      "execution_count": 0,
      "outputs": []
    },
    {
      "cell_type": "code",
      "metadata": {
        "id": "-Gh-hgRb1W94",
        "colab_type": "code",
        "colab": {}
      },
      "source": [
        "import onnx\n",
        "import torch\n",
        "from onnx import onnx_pb\n",
        "from onnx_coreml import convert"
      ],
      "execution_count": 0,
      "outputs": []
    },
    {
      "cell_type": "markdown",
      "metadata": {
        "id": "b96vy1jC1obg",
        "colab_type": "text"
      },
      "source": [
        "Convert ONNX to CoreML model"
      ]
    },
    {
      "cell_type": "code",
      "metadata": {
        "id": "skY5Onta1Y6X",
        "colab_type": "code",
        "colab": {}
      },
      "source": [
        "\n",
        "model_file = open('tmp.onnx', 'rb')\n",
        "model_proto = onnx_pb.ModelProto()\n",
        "model_proto.ParseFromString(model_file.read())\n",
        "#Find the input name and output name of your model and replace 'data' and 'G_B/27' for your model\n",
        "\n",
        "coreml_model = convert(model_proto,\n",
        "                       image_input_names=['data'],\n",
        "                       image_output_names=['G_B/27'])\n",
        "coreml_model.save('sketch.mlmodel')"
      ],
      "execution_count": 0,
      "outputs": []
    }
  ]
}