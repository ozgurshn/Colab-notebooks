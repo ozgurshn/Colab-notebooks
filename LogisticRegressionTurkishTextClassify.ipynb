{
  "nbformat": 4,
  "nbformat_minor": 0,
  "metadata": {
    "colab": {
      "name": "LogisticRegressionTextClassify.ipynb",
      "provenance": [],
      "collapsed_sections": [],
      "authorship_tag": "ABX9TyMN4lMFc6Y3y8kc6Qr0Oa41",
      "include_colab_link": true
    },
    "kernelspec": {
      "name": "python3",
      "display_name": "Python 3"
    }
  },
  "cells": [
    {
      "cell_type": "markdown",
      "metadata": {
        "id": "view-in-github",
        "colab_type": "text"
      },
      "source": [
        "<a href=\"https://colab.research.google.com/github/ozgurshn/Colab-notebooks/blob/master/LogisticRegressionTurkishTextClassify.ipynb\" target=\"_parent\"><img src=\"https://colab.research.google.com/assets/colab-badge.svg\" alt=\"Open In Colab\"/></a>"
      ]
    },
    {
      "cell_type": "code",
      "metadata": {
        "id": "yvW-APaMzYHo",
        "colab_type": "code",
        "colab": {}
      },
      "source": [
        "from google.colab import files\n",
        "\n",
        "import pandas as pd\n",
        "\n",
        "import io"
      ],
      "execution_count": 0,
      "outputs": []
    },
    {
      "cell_type": "code",
      "metadata": {
        "id": "nFzs59BrztQ5",
        "colab_type": "code",
        "colab": {
          "base_uri": "https://localhost:8080/",
          "height": 34
        },
        "outputId": "54f8058b-5125-4752-90c3-463c43d9b9dd"
      },
      "source": [
        "!ls"
      ],
      "execution_count": 2,
      "outputs": [
        {
          "output_type": "stream",
          "text": [
            "sample_data  test_tweets.csv  train_tweets.csv\n"
          ],
          "name": "stdout"
        }
      ]
    },
    {
      "cell_type": "code",
      "metadata": {
        "id": "cshmQ-XXzt_W",
        "colab_type": "code",
        "colab": {}
      },
      "source": [
        "df = pd.read_csv('train_tweets.csv')"
      ],
      "execution_count": 0,
      "outputs": []
    },
    {
      "cell_type": "code",
      "metadata": {
        "id": "13TIEl7nz3wB",
        "colab_type": "code",
        "colab": {
          "base_uri": "https://localhost:8080/",
          "height": 204
        },
        "outputId": "d2827352-c3c5-4e94-88a2-70e0dd4f98bd"
      },
      "source": [
        "df.head()"
      ],
      "execution_count": 106,
      "outputs": [
        {
          "output_type": "execute_result",
          "data": {
            "text/html": [
              "<div>\n",
              "<style scoped>\n",
              "    .dataframe tbody tr th:only-of-type {\n",
              "        vertical-align: middle;\n",
              "    }\n",
              "\n",
              "    .dataframe tbody tr th {\n",
              "        vertical-align: top;\n",
              "    }\n",
              "\n",
              "    .dataframe thead th {\n",
              "        text-align: right;\n",
              "    }\n",
              "</style>\n",
              "<table border=\"1\" class=\"dataframe\">\n",
              "  <thead>\n",
              "    <tr style=\"text-align: right;\">\n",
              "      <th></th>\n",
              "      <th>text</th>\n",
              "      <th>label</th>\n",
              "      <th>stopwords_removed</th>\n",
              "    </tr>\n",
              "  </thead>\n",
              "  <tbody>\n",
              "    <tr>\n",
              "      <th>0</th>\n",
              "      <td>Ulan Wifi'ye bağlıyım ben. Ona bağlıyken Turkc...</td>\n",
              "      <td>olumsuz</td>\n",
              "      <td>[U, l, n,  , W, f, ', y,  , b, ğ, l, y, m,  , ...</td>\n",
              "    </tr>\n",
              "    <tr>\n",
              "      <th>1</th>\n",
              "      <td>20 dk 1 GB internet 500 mb sadece kaşar turkce...</td>\n",
              "      <td>olumsuz</td>\n",
              "      <td>[2, 0,  , d, k,  , 1,  , G, B,  , n, t, r, n, ...</td>\n",
              "    </tr>\n",
              "    <tr>\n",
              "      <th>2</th>\n",
              "      <td>Ayrıca turkcell superonline reklamı kadar da k...</td>\n",
              "      <td>olumsuz</td>\n",
              "      <td>[A, y, r, c,  , t, r, k, c, l, l,  , s, p, r, ...</td>\n",
              "    </tr>\n",
              "    <tr>\n",
              "      <th>3</th>\n",
              "      <td>Turkcell çok pahalı ya</td>\n",
              "      <td>olumsuz</td>\n",
              "      <td>[T, r, k, c, l, l,  , ç, k,  , p, h, l,  , y]</td>\n",
              "    </tr>\n",
              "    <tr>\n",
              "      <th>4</th>\n",
              "      <td>Turkcell Kaş'ta internetin cekmiyor</td>\n",
              "      <td>olumsuz</td>\n",
              "      <td>[T, r, k, c, l, l,  , K, ş, ', t,  , n, t, r, ...</td>\n",
              "    </tr>\n",
              "  </tbody>\n",
              "</table>\n",
              "</div>"
            ],
            "text/plain": [
              "                                                text  ...                                  stopwords_removed\n",
              "0  Ulan Wifi'ye bağlıyım ben. Ona bağlıyken Turkc...  ...  [U, l, n,  , W, f, ', y,  , b, ğ, l, y, m,  , ...\n",
              "1  20 dk 1 GB internet 500 mb sadece kaşar turkce...  ...  [2, 0,  , d, k,  , 1,  , G, B,  , n, t, r, n, ...\n",
              "2  Ayrıca turkcell superonline reklamı kadar da k...  ...  [A, y, r, c,  , t, r, k, c, l, l,  , s, p, r, ...\n",
              "3                             Turkcell çok pahalı ya  ...      [T, r, k, c, l, l,  , ç, k,  , p, h, l,  , y]\n",
              "4                Turkcell Kaş'ta internetin cekmiyor  ...  [T, r, k, c, l, l,  , K, ş, ', t,  , n, t, r, ...\n",
              "\n",
              "[5 rows x 3 columns]"
            ]
          },
          "metadata": {
            "tags": []
          },
          "execution_count": 106
        }
      ]
    },
    {
      "cell_type": "code",
      "metadata": {
        "id": "mUFG_TaeBrjW",
        "colab_type": "code",
        "colab": {}
      },
      "source": [
        "raw_text = df['text']\n",
        "\n",
        "y = df['label']"
      ],
      "execution_count": 0,
      "outputs": []
    },
    {
      "cell_type": "code",
      "metadata": {
        "id": "43nJxCnIBZez",
        "colab_type": "code",
        "colab": {}
      },
      "source": [
        "#Veri setindeki Türkçe stopwordlerin kaldırılması\n",
        "\n",
        "stop_words = open('turkce-stop-words.txt', 'r').read().split()\n",
        "\n",
        "import re\n",
        "def pre_process(txt):\n",
        "    #z = re.sub(\"[^a-zA-Z]\",  \" \",  str(txt))\n",
        "     z = re.sub(r'[^\\w\\d\\s]', ' ', str(txt))\n",
        "     z = re.sub(r'\\s+', ' ', z)\n",
        "     #= str(txt)\n",
        "     z = re.sub(r'^\\s+|\\s+?$', '', z.lower())\n",
        "     return ' '.join(term\n",
        "        for term in z.split()\n",
        "        if term not in set(stop_words)\n",
        "    )"
      ],
      "execution_count": 0,
      "outputs": []
    },
    {
      "cell_type": "code",
      "metadata": {
        "id": "-ZG86oRDBokQ",
        "colab_type": "code",
        "colab": {}
      },
      "source": [
        "processed = raw_text.apply(pre_process)\n"
      ],
      "execution_count": 0,
      "outputs": []
    },
    {
      "cell_type": "code",
      "metadata": {
        "id": "2N1qevEQBxGE",
        "colab_type": "code",
        "colab": {
          "base_uri": "https://localhost:8080/",
          "height": 119
        },
        "outputId": "fa5683ab-db10-4eb2-edaf-1ad81f35b31f"
      },
      "source": [
        "processed.head()"
      ],
      "execution_count": 63,
      "outputs": [
        {
          "output_type": "execute_result",
          "data": {
            "text/plain": [
              "0    ulan wifi bağlıyım bağlıyken internet paketin ...\n",
              "1    20 dk 1 gb internet 500 mb sadece kaşar düşer ...\n",
              "2          superonline reklamı kötü reklam görmemiştim\n",
              "3                                               pahalı\n",
              "4                              kaş internetin cekmiyor\n",
              "Name: text, dtype: object"
            ]
          },
          "metadata": {
            "tags": []
          },
          "execution_count": 63
        }
      ]
    },
    {
      "cell_type": "code",
      "metadata": {
        "id": "X3nRZjwBz9MX",
        "colab_type": "code",
        "colab": {}
      },
      "source": [
        ""
      ],
      "execution_count": 0,
      "outputs": []
    },
    {
      "cell_type": "code",
      "metadata": {
        "id": "JM8o9q378UZx",
        "colab_type": "code",
        "colab": {
          "base_uri": "https://localhost:8080/",
          "height": 34
        },
        "outputId": "f1ed486d-f7dd-40d9-d998-7ee5ff760879"
      },
      "source": [
        "from sklearn.preprocessing import LabelEncoder\n",
        "\n",
        "le = LabelEncoder()\n",
        "le.fit(y)"
      ],
      "execution_count": 65,
      "outputs": [
        {
          "output_type": "execute_result",
          "data": {
            "text/plain": [
              "LabelEncoder()"
            ]
          },
          "metadata": {
            "tags": []
          },
          "execution_count": 65
        }
      ]
    },
    {
      "cell_type": "code",
      "metadata": {
        "id": "vY9Af2b3HNGn",
        "colab_type": "code",
        "colab": {}
      },
      "source": [
        ""
      ],
      "execution_count": 0,
      "outputs": []
    },
    {
      "cell_type": "code",
      "metadata": {
        "id": "OccGJWec9mOr",
        "colab_type": "code",
        "colab": {}
      },
      "source": [
        "y = le.fit_transform(y)\n"
      ],
      "execution_count": 0,
      "outputs": []
    },
    {
      "cell_type": "code",
      "metadata": {
        "id": "7fDXip-T9tb0",
        "colab_type": "code",
        "colab": {
          "base_uri": "https://localhost:8080/",
          "height": 34
        },
        "outputId": "acf5ab21-fa06-4110-9fd5-92b3f0700a31"
      },
      "source": [
        "y"
      ],
      "execution_count": 68,
      "outputs": [
        {
          "output_type": "execute_result",
          "data": {
            "text/plain": [
              "array([2, 2, 2, ..., 2, 0, 1])"
            ]
          },
          "metadata": {
            "tags": []
          },
          "execution_count": 68
        }
      ]
    },
    {
      "cell_type": "code",
      "metadata": {
        "id": "EEEqaXjQ0ITw",
        "colab_type": "code",
        "colab": {}
      },
      "source": [
        "from sklearn.feature_extraction.text import TfidfVectorizer\n",
        "\n",
        "vectorizer =TfidfVectorizer(ngram_range=(1,2))\n",
        "\n",
        "X_ngrams=vectorizer.fit_transform(raw_text)"
      ],
      "execution_count": 0,
      "outputs": []
    },
    {
      "cell_type": "code",
      "metadata": {
        "id": "TuPUEZqW0bwE",
        "colab_type": "code",
        "colab": {}
      },
      "source": [
        "#Train/Test Split\n",
        "\n",
        "from sklearn.model_selection import train_test_split\n",
        "\n",
        "X_train,X_test,y_train,y_test=train_test_split(X_ngrams,y,test_size=0.2,stratify=y)"
      ],
      "execution_count": 0,
      "outputs": []
    },
    {
      "cell_type": "code",
      "metadata": {
        "id": "WPxj7QM-0i2j",
        "colab_type": "code",
        "colab": {
          "base_uri": "https://localhost:8080/",
          "height": 102
        },
        "outputId": "44e3f81c-7178-4814-c378-cb6177fde869"
      },
      "source": [
        "# Running the Classsifier\n",
        "\n",
        "from sklearn.linear_model import LogisticRegression\n",
        "\n",
        "clf=LogisticRegression(max_iter=2000)\n",
        "\n",
        "clf.fit(X_train,y_train)"
      ],
      "execution_count": 112,
      "outputs": [
        {
          "output_type": "execute_result",
          "data": {
            "text/plain": [
              "LogisticRegression(C=1.0, class_weight=None, dual=False, fit_intercept=True,\n",
              "                   intercept_scaling=1, l1_ratio=None, max_iter=2000,\n",
              "                   multi_class='auto', n_jobs=None, penalty='l2',\n",
              "                   random_state=None, solver='lbfgs', tol=0.0001, verbose=0,\n",
              "                   warm_start=False)"
            ]
          },
          "metadata": {
            "tags": []
          },
          "execution_count": 112
        }
      ]
    },
    {
      "cell_type": "code",
      "metadata": {
        "id": "ETw8kuhE4zkz",
        "colab_type": "code",
        "colab": {
          "base_uri": "https://localhost:8080/",
          "height": 34
        },
        "outputId": "bc979621-34c9-4e08-f99f-352e959174ad"
      },
      "source": [
        "res= clf.predict(vectorizer.transform([('guzel')]))\n",
        "res"
      ],
      "execution_count": 108,
      "outputs": [
        {
          "output_type": "execute_result",
          "data": {
            "text/plain": [
              "array([1])"
            ]
          },
          "metadata": {
            "tags": []
          },
          "execution_count": 108
        }
      ]
    },
    {
      "cell_type": "code",
      "metadata": {
        "id": "R1ihChK_EHku",
        "colab_type": "code",
        "colab": {}
      },
      "source": [
        "import numpy as np\n",
        "\n",
        "def compute_mrr_at_k(items:list):\n",
        "    \"\"\"Compute the MRR (average RR) at cutoff k\"\"\"\n",
        "    rr_total = 0\n",
        "    \n",
        "    for item in items:   \n",
        "        rr_at_k = _reciprocal_rank(item[0],item[1])\n",
        "        rr_total = rr_total + rr_at_k\n",
        "        mrr = rr_total / 1/float(len(items))\n",
        "\n",
        "    return mrr\n",
        "\n",
        "def collect_preds(Y_test,Y_preds):\n",
        "    \"\"\"Collect all predictions and ground truth\"\"\"\n",
        "    \n",
        "    pred_gold_list=[[[Y_test[idx]],pred] for idx,pred in enumerate(Y_preds)]\n",
        "    return pred_gold_list\n",
        "             \n",
        "def compute_accuracy(eval_items:list):\n",
        "    correct=0\n",
        "    total=0\n",
        "    \n",
        "    for item in eval_items:\n",
        "        true_pred=item[0]\n",
        "        machine_pred=set(item[1])\n",
        "        \n",
        "        for cat in true_pred:\n",
        "            if cat in machine_pred:\n",
        "                correct+=1\n",
        "                break\n",
        "    \n",
        "    \n",
        "    accuracy=correct/float(len(eval_items))\n",
        "    return accuracy\n",
        "\n",
        "def get_top_k_predictions(model,X_test,k):\n",
        "    \n",
        "    # get probabilities instead of predicted labels, since we want to collect top 3\n",
        "    probs = model.predict_proba(X_test)\n",
        "\n",
        "    # GET TOP K PREDICTIONS BY PROB - note these are just index\n",
        "    best_n = np.argsort(probs, axis=1)[:,-k:]\n",
        "    \n",
        "    # GET CATEGORY OF PREDICTIONS\n",
        "    preds=[[model.classes_[predicted_cat] for predicted_cat in prediction] for prediction in best_n]\n",
        "    \n",
        "    preds=[ item[::-1] for item in preds]\n",
        "    \n",
        "    return preds\n",
        "   \n",
        "def _reciprocal_rank(true_labels: list, machine_preds: list):\n",
        "    \"\"\"Compute the reciprocal rank at cutoff k\"\"\"\n",
        "    \n",
        "    # add index to list only if machine predicted label exists in true labels\n",
        "    tp_pos_list = [(idx + 1) for idx, r in enumerate(machine_preds) if r in true_labels]\n",
        "\n",
        "    rr = 0\n",
        "    if len(tp_pos_list) > 0:\n",
        "        # for RR we need position of first correct item\n",
        "        first_pos_list = tp_pos_list[0]\n",
        "        \n",
        "        # rr = 1/rank\n",
        "        rr = 1 / float(first_pos_list)\n",
        "\n",
        "    return rr"
      ],
      "execution_count": 0,
      "outputs": []
    },
    {
      "cell_type": "code",
      "metadata": {
        "id": "JBm_KWqS44oC",
        "colab_type": "code",
        "colab": {
          "base_uri": "https://localhost:8080/",
          "height": 51
        },
        "outputId": "a0959426-08b5-47eb-a6f8-fd2e502fdd0d"
      },
      "source": [
        "# GET TOP K PREDICTIONS\n",
        "model = clf\n",
        "preds=get_top_k_predictions(model,X_test,2)\n",
        "    \n",
        "# GET PREDICTED VALUES AND GROUND TRUTH INTO A LIST OF LISTS\n",
        "eval_items=collect_preds(y_test,preds)\n",
        "    \n",
        "# GET EVALUATION NUMBERS ON TEST SET -- HOW DID WE DO?\n",
        "#logging.info(\"Starting evaluation...\")\n",
        "accuracy=compute_accuracy(eval_items)\n",
        "mrr_at_k=compute_mrr_at_k(eval_items)\n",
        "print(\"\\nAccuracy={0}; MRR={1}\".format(accuracy,mrr_at_k))\n"
      ],
      "execution_count": 113,
      "outputs": [
        {
          "output_type": "stream",
          "text": [
            "\n",
            "Accuracy=0.8930249367546079; MRR=0.7788218286953379\n"
          ],
          "name": "stdout"
        }
      ]
    },
    {
      "cell_type": "code",
      "metadata": {
        "id": "XERF7D4bGCp3",
        "colab_type": "code",
        "colab": {}
      },
      "source": [
        "#modeli export etme\n",
        "import pickle\n",
        " \n",
        "model_path=\"model.pkl\"\n",
        "\n",
        "pickle.dump(model,open(model_path, 'wb'))\n"
      ],
      "execution_count": 0,
      "outputs": []
    },
    {
      "cell_type": "code",
      "metadata": {
        "id": "FeP6TkmCGQsI",
        "colab_type": "code",
        "colab": {}
      },
      "source": [
        "#modeli yukleme\n",
        "loaded_model = pickle.load(open('model.pkl', 'rb'))\n"
      ],
      "execution_count": 0,
      "outputs": []
    },
    {
      "cell_type": "code",
      "metadata": {
        "id": "aA8hx0OmGXVR",
        "colab_type": "code",
        "colab": {
          "base_uri": "https://localhost:8080/",
          "height": 34
        },
        "outputId": "0d3fd81c-1dcb-486b-96a6-65eaa607b453"
      },
      "source": [
        "res= loaded_model.predict(vectorizer.transform([('normal')]))\n",
        "le.inverse_transform(res)"
      ],
      "execution_count": 105,
      "outputs": [
        {
          "output_type": "execute_result",
          "data": {
            "text/plain": [
              "array(['notr'], dtype=object)"
            ]
          },
          "metadata": {
            "tags": []
          },
          "execution_count": 105
        }
      ]
    },
    {
      "cell_type": "code",
      "metadata": {
        "id": "VF95lTcyGiBW",
        "colab_type": "code",
        "colab": {
          "base_uri": "https://localhost:8080/",
          "height": 34
        },
        "outputId": "1db6e227-37ac-4e2f-dbef-38b291987d46"
      },
      "source": [
        "#1 olumlu\n",
        "#2 olumsuz\n",
        "#0 notr"
      ],
      "execution_count": 96,
      "outputs": [
        {
          "output_type": "execute_result",
          "data": {
            "text/plain": [
              "array([1])"
            ]
          },
          "metadata": {
            "tags": []
          },
          "execution_count": 96
        }
      ]
    },
    {
      "cell_type": "code",
      "metadata": {
        "id": "CQfiF6CUHdY5",
        "colab_type": "code",
        "colab": {
          "base_uri": "https://localhost:8080/",
          "height": 34
        },
        "outputId": "fba8a4de-e3b4-462b-bf26-186fc0f431e4"
      },
      "source": [
        "res"
      ],
      "execution_count": 102,
      "outputs": [
        {
          "output_type": "execute_result",
          "data": {
            "text/plain": [
              "array([0])"
            ]
          },
          "metadata": {
            "tags": []
          },
          "execution_count": 102
        }
      ]
    }
  ]
}